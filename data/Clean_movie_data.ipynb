{
 "cells": [
  {
   "cell_type": "code",
   "execution_count": 13,
   "metadata": {},
   "outputs": [
    {
     "output_type": "execute_result",
     "data": {
      "text/plain": "   color      director_name  num_critic_for_reviews  duration  \\\n0  Color      James Cameron                   723.0     178.0   \n1  Color     Gore Verbinski                   302.0     169.0   \n2  Color         Sam Mendes                   602.0     148.0   \n3  Color  Christopher Nolan                   813.0     164.0   \n4    NaN        Doug Walker                     NaN       NaN   \n\n   director_facebook_likes  actor_3_facebook_likes      actor_2_name  \\\n0                      0.0                   855.0  Joel David Moore   \n1                    563.0                  1000.0     Orlando Bloom   \n2                      0.0                   161.0      Rory Kinnear   \n3                  22000.0                 23000.0    Christian Bale   \n4                    131.0                     NaN        Rob Walker   \n\n   actor_1_facebook_likes        gross                           genres  ...  \\\n0                  1000.0  760505847.0  Action|Adventure|Fantasy|Sci-Fi  ...   \n1                 40000.0  309404152.0         Action|Adventure|Fantasy  ...   \n2                 11000.0  200074175.0        Action|Adventure|Thriller  ...   \n3                 27000.0  448130642.0                  Action|Thriller  ...   \n4                   131.0          NaN                      Documentary  ...   \n\n  num_user_for_reviews language  country  content_rating       budget  \\\n0               3054.0  English      USA           PG-13  237000000.0   \n1               1238.0  English      USA           PG-13  300000000.0   \n2                994.0  English       UK           PG-13  245000000.0   \n3               2701.0  English      USA           PG-13  250000000.0   \n4                  NaN      NaN      NaN             NaN          NaN   \n\n   title_year actor_2_facebook_likes imdb_score  aspect_ratio  \\\n0      2009.0                  936.0        7.9          1.78   \n1      2007.0                 5000.0        7.1          2.35   \n2      2015.0                  393.0        6.8          2.35   \n3      2012.0                23000.0        8.5          2.35   \n4         NaN                   12.0        7.1           NaN   \n\n  movie_facebook_likes  \n0                33000  \n1                    0  \n2                85000  \n3               164000  \n4                    0  \n\n[5 rows x 28 columns]",
      "text/html": "<div>\n<style scoped>\n    .dataframe tbody tr th:only-of-type {\n        vertical-align: middle;\n    }\n\n    .dataframe tbody tr th {\n        vertical-align: top;\n    }\n\n    .dataframe thead th {\n        text-align: right;\n    }\n</style>\n<table border=\"1\" class=\"dataframe\">\n  <thead>\n    <tr style=\"text-align: right;\">\n      <th></th>\n      <th>color</th>\n      <th>director_name</th>\n      <th>num_critic_for_reviews</th>\n      <th>duration</th>\n      <th>director_facebook_likes</th>\n      <th>actor_3_facebook_likes</th>\n      <th>actor_2_name</th>\n      <th>actor_1_facebook_likes</th>\n      <th>gross</th>\n      <th>genres</th>\n      <th>...</th>\n      <th>num_user_for_reviews</th>\n      <th>language</th>\n      <th>country</th>\n      <th>content_rating</th>\n      <th>budget</th>\n      <th>title_year</th>\n      <th>actor_2_facebook_likes</th>\n      <th>imdb_score</th>\n      <th>aspect_ratio</th>\n      <th>movie_facebook_likes</th>\n    </tr>\n  </thead>\n  <tbody>\n    <tr>\n      <td>0</td>\n      <td>Color</td>\n      <td>James Cameron</td>\n      <td>723.0</td>\n      <td>178.0</td>\n      <td>0.0</td>\n      <td>855.0</td>\n      <td>Joel David Moore</td>\n      <td>1000.0</td>\n      <td>760505847.0</td>\n      <td>Action|Adventure|Fantasy|Sci-Fi</td>\n      <td>...</td>\n      <td>3054.0</td>\n      <td>English</td>\n      <td>USA</td>\n      <td>PG-13</td>\n      <td>237000000.0</td>\n      <td>2009.0</td>\n      <td>936.0</td>\n      <td>7.9</td>\n      <td>1.78</td>\n      <td>33000</td>\n    </tr>\n    <tr>\n      <td>1</td>\n      <td>Color</td>\n      <td>Gore Verbinski</td>\n      <td>302.0</td>\n      <td>169.0</td>\n      <td>563.0</td>\n      <td>1000.0</td>\n      <td>Orlando Bloom</td>\n      <td>40000.0</td>\n      <td>309404152.0</td>\n      <td>Action|Adventure|Fantasy</td>\n      <td>...</td>\n      <td>1238.0</td>\n      <td>English</td>\n      <td>USA</td>\n      <td>PG-13</td>\n      <td>300000000.0</td>\n      <td>2007.0</td>\n      <td>5000.0</td>\n      <td>7.1</td>\n      <td>2.35</td>\n      <td>0</td>\n    </tr>\n    <tr>\n      <td>2</td>\n      <td>Color</td>\n      <td>Sam Mendes</td>\n      <td>602.0</td>\n      <td>148.0</td>\n      <td>0.0</td>\n      <td>161.0</td>\n      <td>Rory Kinnear</td>\n      <td>11000.0</td>\n      <td>200074175.0</td>\n      <td>Action|Adventure|Thriller</td>\n      <td>...</td>\n      <td>994.0</td>\n      <td>English</td>\n      <td>UK</td>\n      <td>PG-13</td>\n      <td>245000000.0</td>\n      <td>2015.0</td>\n      <td>393.0</td>\n      <td>6.8</td>\n      <td>2.35</td>\n      <td>85000</td>\n    </tr>\n    <tr>\n      <td>3</td>\n      <td>Color</td>\n      <td>Christopher Nolan</td>\n      <td>813.0</td>\n      <td>164.0</td>\n      <td>22000.0</td>\n      <td>23000.0</td>\n      <td>Christian Bale</td>\n      <td>27000.0</td>\n      <td>448130642.0</td>\n      <td>Action|Thriller</td>\n      <td>...</td>\n      <td>2701.0</td>\n      <td>English</td>\n      <td>USA</td>\n      <td>PG-13</td>\n      <td>250000000.0</td>\n      <td>2012.0</td>\n      <td>23000.0</td>\n      <td>8.5</td>\n      <td>2.35</td>\n      <td>164000</td>\n    </tr>\n    <tr>\n      <td>4</td>\n      <td>NaN</td>\n      <td>Doug Walker</td>\n      <td>NaN</td>\n      <td>NaN</td>\n      <td>131.0</td>\n      <td>NaN</td>\n      <td>Rob Walker</td>\n      <td>131.0</td>\n      <td>NaN</td>\n      <td>Documentary</td>\n      <td>...</td>\n      <td>NaN</td>\n      <td>NaN</td>\n      <td>NaN</td>\n      <td>NaN</td>\n      <td>NaN</td>\n      <td>NaN</td>\n      <td>12.0</td>\n      <td>7.1</td>\n      <td>NaN</td>\n      <td>0</td>\n    </tr>\n  </tbody>\n</table>\n<p>5 rows × 28 columns</p>\n</div>"
     },
     "metadata": {},
     "execution_count": 13
    }
   ],
   "source": [
    "import pandas as pd\n",
    "# Read in movie dataset\n",
    "movie_read = pd.read_csv('movie_metadata.csv')\n",
    "movie_read.head()"
   ]
  },
  {
   "cell_type": "code",
   "execution_count": 14,
   "metadata": {},
   "outputs": [
    {
     "output_type": "execute_result",
     "data": {
      "text/plain": "                                         movie_title      director_name  \\\n0                                            Avatar       James Cameron   \n1          Pirates of the Caribbean: At World's End      Gore Verbinski   \n2                                           Spectre          Sam Mendes   \n3                             The Dark Knight Rises   Christopher Nolan   \n4  Star Wars: Episode VII - The Force Awakens    ...        Doug Walker   \n\n   duration                           genres  \\\n0     178.0  Action|Adventure|Fantasy|Sci-Fi   \n1     169.0         Action|Adventure|Fantasy   \n2     148.0        Action|Adventure|Thriller   \n3     164.0                  Action|Thriller   \n4       NaN                      Documentary   \n\n                                            actors  \\\n0         CCH Pounder, Joel David Moore, Wes Studi   \n1       Johnny Depp, Orlando Bloom, Jack Davenport   \n2  Christoph Waltz, Rory Kinnear, Stephanie Sigman   \n3  Tom Hardy, Christian Bale, Joseph Gordon-Levitt   \n4                          Doug Walker, Rob Walker   \n\n                                       plot_keywords language country  \\\n0             avatar|future|marine|native|paraplegic  English     USA   \n1  goddess|marriage ceremony|marriage proposal|pi...  English     USA   \n2                bomb|espionage|sequel|spy|terrorist  English      UK   \n3  deception|imprisonment|lawlessness|police offi...  English     USA   \n4                                                NaN      NaN     NaN   \n\n   title_year  imdb_score  \n0      2009.0         7.9  \n1      2007.0         7.1  \n2      2015.0         6.8  \n3      2012.0         8.5  \n4         NaN         7.1  ",
      "text/html": "<div>\n<style scoped>\n    .dataframe tbody tr th:only-of-type {\n        vertical-align: middle;\n    }\n\n    .dataframe tbody tr th {\n        vertical-align: top;\n    }\n\n    .dataframe thead th {\n        text-align: right;\n    }\n</style>\n<table border=\"1\" class=\"dataframe\">\n  <thead>\n    <tr style=\"text-align: right;\">\n      <th></th>\n      <th>movie_title</th>\n      <th>director_name</th>\n      <th>duration</th>\n      <th>genres</th>\n      <th>actors</th>\n      <th>plot_keywords</th>\n      <th>language</th>\n      <th>country</th>\n      <th>title_year</th>\n      <th>imdb_score</th>\n    </tr>\n  </thead>\n  <tbody>\n    <tr>\n      <td>0</td>\n      <td>Avatar</td>\n      <td>James Cameron</td>\n      <td>178.0</td>\n      <td>Action|Adventure|Fantasy|Sci-Fi</td>\n      <td>CCH Pounder, Joel David Moore, Wes Studi</td>\n      <td>avatar|future|marine|native|paraplegic</td>\n      <td>English</td>\n      <td>USA</td>\n      <td>2009.0</td>\n      <td>7.9</td>\n    </tr>\n    <tr>\n      <td>1</td>\n      <td>Pirates of the Caribbean: At World's End</td>\n      <td>Gore Verbinski</td>\n      <td>169.0</td>\n      <td>Action|Adventure|Fantasy</td>\n      <td>Johnny Depp, Orlando Bloom, Jack Davenport</td>\n      <td>goddess|marriage ceremony|marriage proposal|pi...</td>\n      <td>English</td>\n      <td>USA</td>\n      <td>2007.0</td>\n      <td>7.1</td>\n    </tr>\n    <tr>\n      <td>2</td>\n      <td>Spectre</td>\n      <td>Sam Mendes</td>\n      <td>148.0</td>\n      <td>Action|Adventure|Thriller</td>\n      <td>Christoph Waltz, Rory Kinnear, Stephanie Sigman</td>\n      <td>bomb|espionage|sequel|spy|terrorist</td>\n      <td>English</td>\n      <td>UK</td>\n      <td>2015.0</td>\n      <td>6.8</td>\n    </tr>\n    <tr>\n      <td>3</td>\n      <td>The Dark Knight Rises</td>\n      <td>Christopher Nolan</td>\n      <td>164.0</td>\n      <td>Action|Thriller</td>\n      <td>Tom Hardy, Christian Bale, Joseph Gordon-Levitt</td>\n      <td>deception|imprisonment|lawlessness|police offi...</td>\n      <td>English</td>\n      <td>USA</td>\n      <td>2012.0</td>\n      <td>8.5</td>\n    </tr>\n    <tr>\n      <td>4</td>\n      <td>Star Wars: Episode VII - The Force Awakens    ...</td>\n      <td>Doug Walker</td>\n      <td>NaN</td>\n      <td>Documentary</td>\n      <td>Doug Walker, Rob Walker</td>\n      <td>NaN</td>\n      <td>NaN</td>\n      <td>NaN</td>\n      <td>NaN</td>\n      <td>7.1</td>\n    </tr>\n  </tbody>\n</table>\n</div>"
     },
     "metadata": {},
     "execution_count": 14
    }
   ],
   "source": [
    "# Join actors column in one and remove unused columns\n",
    "movie_read['actors'] = movie_read[['actor_1_name', 'actor_2_name', 'actor_3_name']].apply(lambda x: ', '.join(x[x.notnull()]), axis = 1)\n",
    "movie_df = movie_read[[\"movie_title\",\"director_name\", \"duration\", \"genres\", \"actors\", \"plot_keywords\", \"language\", \"country\", \"title_year\", \"imdb_score\"]].copy()\n",
    "movie_df.head()"
   ]
  },
  {
   "cell_type": "code",
   "execution_count": 15,
   "metadata": {},
   "outputs": [],
   "source": [
    "# Export\n",
    "movie_df.to_csv(\"movie_clean.csv\", encoding=\"utf-8\", header=True, index=False)"
   ]
  },
  {
   "cell_type": "code",
   "execution_count": null,
   "metadata": {},
   "outputs": [],
   "source": []
  }
 ],
 "metadata": {
  "kernelspec": {
   "display_name": "Python 3",
   "language": "python",
   "name": "python3"
  },
  "language_info": {
   "codemirror_mode": {
    "name": "ipython",
    "version": 3
   },
   "file_extension": ".py",
   "mimetype": "text/x-python",
   "name": "python",
   "nbconvert_exporter": "python",
   "pygments_lexer": "ipython3",
   "version": "3.7.4-final"
  }
 },
 "nbformat": 4,
 "nbformat_minor": 2
}